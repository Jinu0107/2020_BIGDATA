{
 "cells": [
  {
   "cell_type": "code",
   "execution_count": 7,
   "metadata": {},
   "outputs": [
    {
     "name": "stdout",
     "output_type": "stream",
     "text": [
      "비밀번호 일치\n"
     ]
    }
   ],
   "source": [
    "password = 1234\n",
    "if password == 1234:\n",
    "    print(\"비밀번호 일치\")\n",
    "else :\n",
    "    print(\"비밀번호 불일치\")"
   ]
  },
  {
   "cell_type": "code",
   "execution_count": 10,
   "metadata": {},
   "outputs": [
    {
     "name": "stdout",
     "output_type": "stream",
     "text": [
      "비밀번호 일치\n"
     ]
    }
   ],
   "source": [
    "password = 1234\n",
    "if password == 1234:\n",
    "    print(\"비밀번호 일치\")\n",
    "else :\n",
    "    pass"
   ]
  },
  {
   "cell_type": "code",
   "execution_count": 16,
   "metadata": {},
   "outputs": [
    {
     "name": "stdout",
     "output_type": "stream",
     "text": [
      "아이디 입력dasf\n",
      "비밀번호 입력2143\n",
      "로그인 실패\n"
     ]
    }
   ],
   "source": [
    "#로그인 프로그램\n",
    "ID = 'flower'\n",
    "password = '1234'\n",
    "\n",
    "#사용자로부터 키보드를 통해 값을 입력 받기\n",
    "input_id = input(\"아이디 입력\") #입력되는 data는 문자열로 처리되게 된다.\n",
    "input_password = input(\"비밀번호 입력\")\n",
    "if input_id == ID and input_password == password:\n",
    "    print(\"로그인 성공\");\n",
    "else :\n",
    "    print(\"로그인 실패\")"
   ]
  }
 ],
 "metadata": {
  "kernelspec": {
   "display_name": "Python 3",
   "language": "python",
   "name": "python3"
  },
  "language_info": {
   "codemirror_mode": {
    "name": "ipython",
    "version": 3
   },
   "file_extension": ".py",
   "mimetype": "text/x-python",
   "name": "python",
   "nbconvert_exporter": "python",
   "pygments_lexer": "ipython3",
   "version": "3.7.4"
  }
 },
 "nbformat": 4,
 "nbformat_minor": 2
}
