{
 "cells": [
  {
   "cell_type": "code",
   "execution_count": 7,
   "metadata": {},
   "outputs": [
    {
     "name": "stdout",
     "output_type": "stream",
     "text": [
      "비밀번호 일치\n"
     ]
    }
   ],
   "source": [
    "password = 1234\n",
    "if password == 1234:\n",
    "    print(\"비밀번호 일치\")\n",
    "else :\n",
    "    print(\"비밀번호 불일치\")"
   ]
  },
  {
   "cell_type": "code",
   "execution_count": 10,
   "metadata": {},
   "outputs": [
    {
     "name": "stdout",
     "output_type": "stream",
     "text": [
      "비밀번호 일치\n"
     ]
    }
   ],
   "source": [
    "password = 1234\n",
    "if password == 1234:\n",
    "    print(\"비밀번호 일치\")\n",
    "else :\n",
    "    pass"
   ]
  },
  {
   "cell_type": "code",
   "execution_count": null,
   "metadata": {},
   "outputs": [],
   "source": [
    "#로그인 프로그램\n",
    "ID = 'flower'\n",
    "password = '1234'\n",
    "\n",
    "#사용자로부터 키보드를 통해 값을 입력 받기\n",
    "input_id = input(\"아이디 입력\") #입력되는 data는 문자열로 처리되게 된다.\n",
    "input_password = input(\"비밀번호 입력\")\n",
    "if input_id == ID and input_password == password:\n",
    "    print(\"로그인 성공\");\n",
    "else :\n",
    "    print(\"로그인 실패\")"
   ]
  },
  {
   "cell_type": "code",
   "execution_count": 1,
   "metadata": {},
   "outputs": [
    {
     "name": "stdout",
     "output_type": "stream",
     "text": [
      "첫 번째 수 입력 : 302\n",
      "두 번째 수 입력 : 123\n",
      "425\n"
     ]
    }
   ],
   "source": [
    "#사용자로부터 두 수를 입력받아 더한 결과를 출력하느 ㄴ코드 작성\n",
    "su1 = int(input(\"첫 번째 수 입력 : \"));\n",
    "su2 = int(input(\"두 번째 수 입력 : \"));\n",
    "\n",
    "print(su1 + su2)"
   ]
  },
  {
   "cell_type": "code",
   "execution_count": 2,
   "metadata": {},
   "outputs": [
    {
     "name": "stdout",
     "output_type": "stream",
     "text": [
      "정수 입력32\n",
      "양수\n"
     ]
    }
   ],
   "source": [
    "#if ~elif ~ else\n",
    "num = int(input(\"정수 입력\"))\n",
    "\n",
    "if num < 0:\n",
    "    print(\"음수\")\n",
    "elif num > 0:\n",
    "    print(\"양수\")\n",
    "else : \n",
    "    print(\"0\")"
   ]
  },
  {
   "cell_type": "code",
   "execution_count": 4,
   "metadata": {},
   "outputs": [
    {
     "name": "stdout",
     "output_type": "stream",
     "text": [
      "첫 번째 수 입력 : 23\n",
      "두 번째 수 입력 : 543254\n",
      "세 번째 수 입력 : 2\n",
      "제일 큰 수 :  543254\n"
     ]
    }
   ],
   "source": [
    "su1 = int(input(\"첫 번째 수 입력 : \"));\n",
    "su2 = int(input(\"두 번째 수 입력 : \"));\n",
    "su3 = int(input(\"세 번째 수 입력 : \"));\n",
    "\n",
    "print(\"제일 큰 수 : \",max(su1 , su2 , su3))"
   ]
  },
  {
   "cell_type": "markdown",
   "metadata": {},
   "source": [
    "su1 = int(input(\"첫 번째 수 입력 : \"));\n",
    "su2 = int(input(\"두 번째 수 입력 : \"));\n",
    "su3 = int(input(\"세 번째 수 입력 : \"));\n",
    "max = 0\n",
    "if su1 > su2 and su1 > su3:\n",
    "    max = su1\n",
    "elif su2 > su3:\n",
    "    max = su2\n",
    "else :\n",
    "    max = su3\n",
    "    \n",
    "        \n",
    "print(\"제일 큰 수 : \" , max)"
   ]
  },
  {
   "cell_type": "code",
   "execution_count": 14,
   "metadata": {},
   "outputs": [
    {
     "name": "stdout",
     "output_type": "stream",
     "text": [
      "안진우\n",
      "박진우\n",
      "김진우최진우\n",
      "0\n",
      "1\n",
      "2\n",
      "3\n",
      "4\n",
      "5\n",
      "6\n",
      "7\n",
      "8\n",
      "9\n"
     ]
    }
   ],
   "source": [
    "#for 변수 in 리스트 또는 범위\n",
    "for name in ['안진우' , '박진우' , '김진우' '최진우']:\n",
    "    print(name)\n",
    "\n",
    "for x in range(0 , 10):\n",
    "    print(x)"
   ]
  },
  {
   "cell_type": "code",
   "execution_count": 18,
   "metadata": {},
   "outputs": [
    {
     "name": "stdout",
     "output_type": "stream",
     "text": [
      "안진우 박진우 김진우 최진우 \n",
      "0\n",
      "1\n",
      "2\n",
      "3\n",
      "4\n",
      "5\n",
      "6\n",
      "7\n",
      "8\n",
      "9\n"
     ]
    }
   ],
   "source": [
    "#출력시 print문은 줄바꿈을 표현한다.\n",
    "#줄바꿈 없이 출력 end = ''\n",
    "for name in ['안진우' , '박진우' , '김진우' , '최진우']:\n",
    "    print(name, end=' ')\n",
    "print('') #커서를 내리는 역할을 하게 된다\n",
    "for x in range(0 , 10):\n",
    "    print(x)"
   ]
  },
  {
   "cell_type": "code",
   "execution_count": 19,
   "metadata": {},
   "outputs": [
    {
     "name": "stdout",
     "output_type": "stream",
     "text": [
      "0\n",
      "2\n",
      "4\n",
      "6\n",
      "8\n"
     ]
    }
   ],
   "source": [
    "for x in range(0 , 10 , 2):\n",
    "    print(x)"
   ]
  },
  {
   "cell_type": "code",
   "execution_count": 20,
   "metadata": {},
   "outputs": [
    {
     "name": "stdout",
     "output_type": "stream",
     "text": [
      "11 12 13 14 15 16 17 18 19 20 21 "
     ]
    }
   ],
   "source": [
    "#숫자 11부터 21까지를 한 줄에 출력하시오\n",
    "for x in range(11 , 22):\n",
    "    print(x , end=\" \")"
   ]
  },
  {
   "cell_type": "code",
   "execution_count": 23,
   "metadata": {},
   "outputs": [
    {
     "name": "stdout",
     "output_type": "stream",
     "text": [
      "55\n"
     ]
    }
   ],
   "source": [
    "#1부터 10까지의 합을 출력\n",
    "sum = 0\n",
    "for x in range(1 , 11):\n",
    "    sum = sum + x\n",
    "    \n",
    "print(sum)"
   ]
  },
  {
   "cell_type": "markdown",
   "metadata": {},
   "source": [
    "# 문자열"
   ]
  },
  {
   "cell_type": "code",
   "execution_count": 26,
   "metadata": {},
   "outputs": [
    {
     "name": "stdout",
     "output_type": "stream",
     "text": [
      "파이썬파이썬파이썬\n"
     ]
    }
   ],
   "source": [
    "#문자열 곱하기\n",
    "#곱한 수 만큼 문자열이 반복되어 생성\n",
    "string = \"파이썬\"\n",
    "\n",
    "result = string * 3\n",
    "print(result)"
   ]
  },
  {
   "cell_type": "code",
   "execution_count": 37,
   "metadata": {},
   "outputs": [
    {
     "name": "stdout",
     "output_type": "stream",
     "text": [
      "Data crawling is fun\n",
      "Data\n",
      "crawling is\n",
      "fun\n",
      "n\n",
      "n\n",
      "Data crawling is fu\n",
      " fun\n"
     ]
    }
   ],
   "source": [
    "#문자열 슬라이싱 (문자열의 일부분을 추출하는 기능)\n",
    "crawling = \"Data crawling is fun\"\n",
    "parsing = \"Data parsing is also fun\"\n",
    "\n",
    "print(crawling)\n",
    "print(crawling[0:4]) # 0 ~ 3\n",
    "print(crawling[5:16]) # 5-15\n",
    "print(crawling[17:])#17-끝\n",
    "print(crawling[19])#19(20번째 문자) - 인덱스는 0부터 시작\n",
    "print(crawling[-1:])#마지막에서 끝까지 (마지막 문자)\n",
    "print(crawling[:-1]) #처음부터 마지막 -1까지\n",
    "print(crawling[16:16+4]) # 16-19"
   ]
  },
  {
   "cell_type": "code",
   "execution_count": 39,
   "metadata": {},
   "outputs": [
    {
     "ename": "TypeError",
     "evalue": "'str' object does not support item assignment",
     "output_type": "error",
     "traceback": [
      "\u001b[1;31m---------------------------------------------------------------------------\u001b[0m",
      "\u001b[1;31mTypeError\u001b[0m                                 Traceback (most recent call last)",
      "\u001b[1;32m<ipython-input-39-69c666aedaa2>\u001b[0m in \u001b[0;36m<module>\u001b[1;34m\u001b[0m\n\u001b[1;32m----> 1\u001b[1;33m \u001b[0mparsing\u001b[0m\u001b[1;33m[\u001b[0m\u001b[1;36m5\u001b[0m\u001b[1;33m]\u001b[0m \u001b[1;33m=\u001b[0m \u001b[1;34m'가'\u001b[0m\u001b[1;33m\u001b[0m\u001b[1;33m\u001b[0m\u001b[0m\n\u001b[0m",
      "\u001b[1;31mTypeError\u001b[0m: 'str' object does not support item assignment"
     ]
    }
   ],
   "source": [
    " parsing[5] = '가' #에러남 , 문자열 인덱싱에는 대입연산자를 사용힐수 없다."
   ]
  },
  {
   "cell_type": "code",
   "execution_count": 42,
   "metadata": {},
   "outputs": [
    {
     "name": "stdout",
     "output_type": "stream",
     "text": [
      "True\n",
      "False\n",
      "있음\n"
     ]
    }
   ],
   "source": [
    "#문자열 연산자 in / not in 연산자\n",
    "#특정 문자열이 포함되어 있는지 여부 확인\n",
    "#결과는 True or False\n",
    "\n",
    "#대소문자는 구별해서 찾는다1\n",
    "string = 'python programing'\n",
    "\n",
    "print('python' in string)\n",
    "print('Python' in string)\n",
    "\n",
    "if 'python' in string:\n",
    "    print(\"있음\")\n",
    "else :\n",
    "    print(\"없음\")"
   ]
  },
  {
   "cell_type": "code",
   "execution_count": 44,
   "metadata": {},
   "outputs": [
    {
     "name": "stdout",
     "output_type": "stream",
     "text": [
      "10\n",
      "1\n"
     ]
    }
   ],
   "source": [
    "#len() : 문자열 전체 길이 반환 , 단독함수 len(변수명 또는 문자열)\n",
    "#count() : 특정 문자의 빈도수 반환 , 문자열또는 변수 .count(개수할 문자)\n",
    "\n",
    "string = 'programing'\n",
    "print(len(string))\n",
    "print(string.count('m'))"
   ]
  },
  {
   "cell_type": "code",
   "execution_count": 51,
   "metadata": {},
   "outputs": [
    {
     "name": "stdout",
     "output_type": "stream",
     "text": [
      "['python', 'programing']\n",
      "['홍길동', '이몽룡', '성춘향', '변학도']\n",
      "['red', 'blue', 'yellow', 'green']\n"
     ]
    }
   ],
   "source": [
    "#split() : 구분자를 기준으로 문자열을 나누고 리스트 형태로 반환\n",
    "#구분자 : 기본 공백, 옵션으로 구분자를 지정할 수 있음 - / , .\n",
    "\n",
    "string = 'python programing'\n",
    "\n",
    "split_str = string.split()\n",
    "\n",
    "print(split_str) # 결과는 리스트 형탤로 반환\n",
    "\n",
    "names = '홍길동,이몽룡,성춘향,변학도'\n",
    "names_split = names.split(\",\")\n",
    "print(names_split)\n",
    "\n",
    "colors = 'red:blue:yellow:green'\n",
    "colors_split = colors.split(\":\")\n",
    "print(colors_split)"
   ]
  },
  {
   "cell_type": "code",
   "execution_count": 53,
   "metadata": {},
   "outputs": [
    {
     "name": "stdout",
     "output_type": "stream",
     "text": [
      "Python programing\n",
      "Java programing\n"
     ]
    }
   ],
   "source": [
    "#replace() : 전체 문자열에서 특정문자열을 찾아 다른 문자열로 변경 \n",
    "#문자열.replace(\"찾는 문자열\" , \"변경할 문자열\")\n",
    "\n",
    "coures = \"Java programing\"\n",
    "\n",
    "#Java를 찾아서 Python 으로 변경\n",
    "coures_replace = coures.replace(\"Java\" , \"Python\")\n",
    "print(coures_replace)\n",
    "print(coures)"
   ]
  },
  {
   "cell_type": "code",
   "execution_count": 57,
   "metadata": {},
   "outputs": [
    {
     "name": "stdout",
     "output_type": "stream",
     "text": [
      "a-b-c-d\n",
      "안진우 박진우 김진우\n"
     ]
    }
   ],
   "source": [
    "#join() : 각 문자사이에 특정 문자(열) 을 삽입\n",
    "a = \"aa\"\n",
    "a.join(\"bbb\") #a 변수의 값을 bbb 사이에 삽입\n",
    "\n",
    "#문자열 사이에 구분자 삽입 사용\n",
    "#리스트에 있는 모든 문자를 하나로 구성할 때 사용(리스트 함수)\n",
    "a = '-'\n",
    "print(a.join(\"abcd\"))\n",
    "\n",
    "#리스트에 joint 함수 사용\n",
    "sep = \" \"\n",
    "names = [\"안진우\" , \"박진우\" ,  \"김진우\"]\n",
    "print(sep.join(names))\n"
   ]
  },
  {
   "cell_type": "code",
   "execution_count": 62,
   "metadata": {},
   "outputs": [
    {
     "data": {
      "text/plain": [
       "'This Is My Dog'"
      ]
     },
     "execution_count": 62,
     "metadata": {},
     "output_type": "execute_result"
    }
   ],
   "source": [
    "#대소문자 전환 함수\n",
    "#upper() 전부 대문자로\n",
    "#lower() 전부 소문자로\n",
    "#captialize() 문장의 첫 번째 문자를 대문자로\n",
    "#title() 각 단어의 첫 글자를 대문자로\n",
    "\n",
    "string = 'this is MY DOG'\n",
    "string.upper()\n",
    "string.lower()\n",
    "string.capitalize()\n",
    "string.title()"
   ]
  },
  {
   "cell_type": "code",
   "execution_count": null,
   "metadata": {},
   "outputs": [],
   "source": [
    "#isalpha() : 문자여부 결과 확인 T/F\n",
    "#isdigit() : 숫자여부 결과 확인 T/F\n",
    "#isspace() : 공백여부 결과 확인 T/F\n",
    "#isalnum() : 문자 또는 숫자여부 결과 반환 T/F"
   ]
  },
  {
   "cell_type": "code",
   "execution_count": 75,
   "metadata": {},
   "outputs": [
    {
     "name": "stdout",
     "output_type": "stream",
     "text": [
      "문장을 입력하세요 : 나의 email주소는 wjdrms735@naver.com 입니다.\n",
      "알파벳 :  27 개\n",
      "숫자 :  3 개\n",
      "스페이스 :  3 개\n",
      "기타 :  3 개\n"
     ]
    }
   ],
   "source": [
    "#사용자로부터 문장을 입력 받는다.\n",
    "string = input(\"문장을 입력하세요 : \")\n",
    "alpha , digit , space ,  others = 0 , 0 , 0 , 0\n",
    "for x in string:\n",
    "    if x.isalpha():\n",
    "        alpha = alpha + 1\n",
    "    elif x.isdigit():\n",
    "        digit = digit + 1\n",
    "    elif x.isspace():\n",
    "        space = space + 1\n",
    "    else:\n",
    "        others = others + 1\n",
    "        \n",
    "print(\"알파벳 : \" , alpha , \"개\")\n",
    "print(\"숫자 : \" , digit , \"개\")\n",
    "print(\"스페이스 : \" , space , \"개\")\n",
    "print(\"기타 : \" , others , \"개\")"
   ]
  },
  {
   "cell_type": "markdown",
   "metadata": {},
   "source": [
    "# 리스트"
   ]
  },
  {
   "cell_type": "code",
   "execution_count": 77,
   "metadata": {},
   "outputs": [
    {
     "name": "stdout",
     "output_type": "stream",
     "text": [
      "100\n",
      "200\n",
      "300\n",
      "[10, 20, 30]\n"
     ]
    }
   ],
   "source": [
    "#리스트 생성\n",
    "numbers = [100 , 200 , 300 , [10,20,30]]\n",
    "numbers[3][1]\n",
    "\n",
    "for n in range(0 , len(numbers)):\n",
    "    print(numbers[n])"
   ]
  },
  {
   "cell_type": "code",
   "execution_count": 78,
   "metadata": {},
   "outputs": [
    {
     "name": "stdout",
     "output_type": "stream",
     "text": [
      "1 2 3\n"
     ]
    }
   ],
   "source": [
    "#리스트의 값을 각 변수에 저장하는 코드\n",
    "\n",
    "nums = [1,2,3]\n",
    "\n",
    "a,b,c = nums #리스트 모든 원소를 각 변수에 대임\n",
    "print(a , b, c)"
   ]
  },
  {
   "cell_type": "code",
   "execution_count": 86,
   "metadata": {},
   "outputs": [
    {
     "name": "stdout",
     "output_type": "stream",
     "text": [
      "10\n",
      "10\n"
     ]
    }
   ],
   "source": [
    "#인덱싱\n",
    "#a[0] : 첫 번째 요소 접근\n",
    "#a[-1] : 마지막 요소\n",
    "#a[-2] : 뒤에서 두 번째 요소\n",
    "\n",
    "b = [1,2,3,[10,20]]\n",
    "print(b[-1][0]) #반환 되는 값\n",
    "\n",
    "a = [1,2,3,4,5]\n",
    "c = [1,2,3,[10,20],4,5]\n",
    "\n",
    "all_list = [a,b,c]\n",
    "print(all_list[-1][3][0])"
   ]
  },
  {
   "cell_type": "code",
   "execution_count": null,
   "metadata": {},
   "outputs": [],
   "source": []
  },
  {
   "cell_type": "code",
   "execution_count": null,
   "metadata": {},
   "outputs": [],
   "source": []
  },
  {
   "cell_type": "code",
   "execution_count": null,
   "metadata": {},
   "outputs": [],
   "source": []
  },
  {
   "cell_type": "code",
   "execution_count": null,
   "metadata": {},
   "outputs": [],
   "source": []
  }
 ],
 "metadata": {
  "kernelspec": {
   "display_name": "Python 3",
   "language": "python",
   "name": "python3"
  },
  "language_info": {
   "codemirror_mode": {
    "name": "ipython",
    "version": 3
   },
   "file_extension": ".py",
   "mimetype": "text/x-python",
   "name": "python",
   "nbconvert_exporter": "python",
   "pygments_lexer": "ipython3",
   "version": "3.7.4"
  }
 },
 "nbformat": 4,
 "nbformat_minor": 2
}
