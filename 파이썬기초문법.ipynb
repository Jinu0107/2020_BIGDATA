{
 "cells": [
  {
   "cell_type": "code",
   "execution_count": 6,
   "metadata": {},
   "outputs": [
    {
     "name": "stdout",
     "output_type": "stream",
     "text": [
      "가\n"
     ]
    }
   ],
   "source": [
    "a = \"가\"\n",
    "print(a) #변수가 가리키는 객체의 값 출력"
   ]
  },
  {
   "cell_type": "code",
   "execution_count": 5,
   "metadata": {},
   "outputs": [
    {
     "data": {
      "text/plain": [
       "140723518939824"
      ]
     },
     "execution_count": 5,
     "metadata": {},
     "output_type": "execute_result"
    }
   ],
   "source": [
    "id(a) #변수가 가리키는 메모리의 주소 반환"
   ]
  },
  {
   "cell_type": "code",
   "execution_count": null,
   "metadata": {},
   "outputs": [],
   "source": [
    "#f변수에 값 저장\n",
    "#변수 = 값\n",
    "a = 10\n"
   ]
  },
  {
   "cell_type": "code",
   "execution_count": 15,
   "metadata": {},
   "outputs": [
    {
     "name": "stdout",
     "output_type": "stream",
     "text": [
      "1 2 3 4\n"
     ]
    }
   ],
   "source": [
    "#여러개의 변수에 여러개의 값 저장\n",
    "#변수1. 변수2. 변수3... = 값 1 , 값 2, 값 3 , ...\n",
    "a,b,x,y = 1,2,3,4\n",
    "print(a,b,x,y)"
   ]
  },
  {
   "cell_type": "code",
   "execution_count": 19,
   "metadata": {},
   "outputs": [],
   "source": [
    "#여러개의 변수에 한 개의 값 저장\n",
    "#변수 1 = 변수2 = 변수3 = 값\n",
    "a = b = c = 10"
   ]
  },
  {
   "cell_type": "code",
   "execution_count": 21,
   "metadata": {},
   "outputs": [
    {
     "name": "stdout",
     "output_type": "stream",
     "text": [
      "10 10 10\n"
     ]
    }
   ],
   "source": [
    "print(a , b, c)"
   ]
  },
  {
   "cell_type": "markdown",
   "metadata": {},
   "source": [
    "# 두 변수 값의 교환\n",
    "a = 10\n",
    "b = 20\n",
    "#위 두 변수의 값을 교환 하세요.\n",
    "\n",
    "a,b = b,a # 동적할당을 하기 때문에\n",
    "print(a , b)"
   ]
  },
  {
   "cell_type": "code",
   "execution_count": 29,
   "metadata": {},
   "outputs": [
    {
     "ename": "NameError",
     "evalue": "name 'a' is not defined",
     "output_type": "error",
     "traceback": [
      "\u001b[1;31m---------------------------------------------------------------------------\u001b[0m",
      "\u001b[1;31mNameError\u001b[0m                                 Traceback (most recent call last)",
      "\u001b[1;32m<ipython-input-29-3453d854d18c>\u001b[0m in \u001b[0;36m<module>\u001b[1;34m\u001b[0m\n\u001b[0;32m      2\u001b[0m \u001b[1;31m#del 명령어 사용\u001b[0m\u001b[1;33m\u001b[0m\u001b[1;33m\u001b[0m\u001b[1;33m\u001b[0m\u001b[0m\n\u001b[0;32m      3\u001b[0m \u001b[1;31m#del 변수\u001b[0m\u001b[1;33m\u001b[0m\u001b[1;33m\u001b[0m\u001b[1;33m\u001b[0m\u001b[0m\n\u001b[1;32m----> 4\u001b[1;33m \u001b[1;32mdel\u001b[0m \u001b[0ma\u001b[0m \u001b[1;31m#변수 a 삭제\u001b[0m\u001b[1;33m\u001b[0m\u001b[1;33m\u001b[0m\u001b[0m\n\u001b[0m",
      "\u001b[1;31mNameError\u001b[0m: name 'a' is not defined"
     ]
    }
   ],
   "source": [
    "#변수 삭제\n",
    "#del 명령어 사용\n",
    "#del 변수\n",
    "del a #변수 a 삭제\n"
   ]
  },
  {
   "cell_type": "code",
   "execution_count": 31,
   "metadata": {},
   "outputs": [
    {
     "name": "stdout",
     "output_type": "stream",
     "text": [
      "홍길동 23\n"
     ]
    }
   ],
   "source": [
    "#문자열 사용\n",
    "#문자열에 큰 따옴표를 사용\n",
    "name = \"홍길동\"\n",
    "age = 23\n",
    "print(name , age)\n"
   ]
  },
  {
   "cell_type": "markdown",
   "metadata": {},
   "source": [
    "### 작은따옴표도 사용 가능\n",
    "address = \"서울시 강남구\"\n",
    "\n",
    "\n",
    "#문자열에 + 연산자를 사용하면 문자열 결합 연산자로 취급\n",
    "print(name + \"은 \" + address + \"에 삽니다.\")"
   ]
  },
  {
   "cell_type": "code",
   "execution_count": 41,
   "metadata": {},
   "outputs": [
    {
     "name": "stdout",
     "output_type": "stream",
     "text": [
      "홍길동의 나이는 23살입니다.\n"
     ]
    }
   ],
   "source": [
    "print(name + \"의 나이는 \" + str(age) + \"살입니다.\")\n"
   ]
  },
  {
   "cell_type": "code",
   "execution_count": 44,
   "metadata": {},
   "outputs": [],
   "source": [
    "name , no , year , grade , average = \"홍길동\" , 2016001 , 4 , \"A\" , 93.5\n"
   ]
  },
  {
   "cell_type": "code",
   "execution_count": 52,
   "metadata": {},
   "outputs": [
    {
     "name": "stdout",
     "output_type": "stream",
     "text": [
      "성명 : 홍길동\n",
      "학번 : 2016001\n",
      "학년 : 4\n",
      "학점 : A\n",
      "평균 : 93.50\n"
     ]
    }
   ],
   "source": [
    "#포멧코드 사용\n",
    "print(\"성명 : %s\"  %name) #문자열 포맷 콛,\n",
    "print(\"학번 : %s\" % no)\n",
    "print(\"학년 : %d\"  %year) #정수형 포맷 코드\n",
    "print(\"학점 : %c\" %grade) #한 문자 포맷코드\n",
    "print(\"평균 : %.2f\" %average) #실수형 hvaotzhem (.thtn 이하 자리f)"
   ]
  },
  {
   "cell_type": "code",
   "execution_count": null,
   "metadata": {},
   "outputs": [],
   "source": []
  }
 ],
 "metadata": {
  "kernelspec": {
   "display_name": "Python 3",
   "language": "python",
   "name": "python3"
  },
  "language_info": {
   "codemirror_mode": {
    "name": "ipython",
    "version": 3
   },
   "file_extension": ".py",
   "mimetype": "text/x-python",
   "name": "python",
   "nbconvert_exporter": "python",
   "pygments_lexer": "ipython3",
   "version": "3.7.4"
  }
 },
 "nbformat": 4,
 "nbformat_minor": 2
}
